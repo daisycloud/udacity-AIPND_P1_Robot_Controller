{
 "cells": [
  {
   "cell_type": "code",
   "execution_count": 3,
   "metadata": {},
   "outputs": [
    {
     "name": "stdout",
     "output_type": "stream",
     "text": [
      "[1 2 3 4 5]\n"
     ]
    }
   ],
   "source": [
    "import numpy as np\n",
    "\n",
    "x = np.array([1,2,3,4,5])\n",
    "print(x)"
   ]
  },
  {
   "cell_type": "code",
   "execution_count": 4,
   "metadata": {},
   "outputs": [
    {
     "name": "stdout",
     "output_type": "stream",
     "text": [
      "5\n"
     ]
    }
   ],
   "source": [
    "# 负数索引\n",
    "print(x[-1])"
   ]
  },
  {
   "cell_type": "code",
   "execution_count": 10,
   "metadata": {},
   "outputs": [
    {
     "name": "stdout",
     "output_type": "stream",
     "text": [
      "[ 1  2 20  4  5]\n",
      "[[1 2 3]\n",
      " [4 5 6]\n",
      " [7 8 9]]\n",
      "[[  1   2   3]\n",
      " [  4   5   6]\n",
      " [  7   8 200]]\n"
     ]
    }
   ],
   "source": [
    "#修改值\n",
    "x[2]=20\n",
    "print(x)\n",
    "\n",
    "#修改秩为2的数组\n",
    "y = np.arange(1,10).reshape(3,3)\n",
    "print(y)\n",
    "y[2,2]=200\n",
    "print(y)"
   ]
  },
  {
   "cell_type": "code",
   "execution_count": 18,
   "metadata": {},
   "outputs": [
    {
     "name": "stdout",
     "output_type": "stream",
     "text": [
      "[2 3 4]\n"
     ]
    }
   ],
   "source": [
    "#删除\n",
    "x = np.array([1,2,3,4,5])\n",
    "x = np.delete(x,[0,4])\n",
    "print(x)\n",
    "# w = np.delete(y, 0, axis=0)\n",
    "# print(w)"
   ]
  },
  {
   "cell_type": "code",
   "execution_count": 20,
   "metadata": {},
   "outputs": [
    {
     "name": "stdout",
     "output_type": "stream",
     "text": [
      "[[1 2 3]\n",
      " [4 5 6]\n",
      " [7 8 9]]\n"
     ]
    }
   ],
   "source": [
    "y = np.arange(1,10).reshape(3,3)\n",
    "print(y)\n"
   ]
  },
  {
   "cell_type": "code",
   "execution_count": 21,
   "metadata": {},
   "outputs": [
    {
     "name": "stdout",
     "output_type": "stream",
     "text": [
      "[[2 3]\n",
      " [5 6]\n",
      " [8 9]]\n"
     ]
    }
   ],
   "source": [
    "y = np.delete(y, 0, axis=1)\n",
    "print(y)"
   ]
  },
  {
   "cell_type": "code",
   "execution_count": 38,
   "metadata": {
    "scrolled": true
   },
   "outputs": [
    {
     "name": "stdout",
     "output_type": "stream",
     "text": [
      "[[1 3]\n",
      " [4 6]\n",
      " [7 9]]\n"
     ]
    }
   ],
   "source": [
    "y = np.arange(1,10).reshape(3,3)\n",
    "y = np.delete(y, 1, axis=1)\n",
    "print(y)"
   ]
  },
  {
   "cell_type": "code",
   "execution_count": 43,
   "metadata": {},
   "outputs": [
    {
     "name": "stdout",
     "output_type": "stream",
     "text": [
      "[[ 1  2  3 10]\n",
      " [ 4  5  6 11]\n",
      " [ 7  8  9 12]] [ 1  2  3  4  5  6  7  8  9 10 11 12]\n"
     ]
    }
   ],
   "source": [
    "#追加行 追加列\n",
    "v=np.arange(1,10).reshape(3,3)\n",
    "v1=np.append(v,[[10],[11],[12]], axis=1)\n",
    "v2=np.append(v,[10,11,12])\n",
    "print(v1,v2)"
   ]
  },
  {
   "cell_type": "code",
   "execution_count": 68,
   "metadata": {},
   "outputs": [
    {
     "name": "stdout",
     "output_type": "stream",
     "text": [
      "x:\n",
      " [1 2 3 4 5]\n",
      "[   1    2  100 1000    3    4    5]\n",
      "y:\n",
      " [[1 2 3]\n",
      " [4 5 6]\n",
      " [7 8 9]]\n",
      "[[ 1 10  2  3]\n",
      " [ 4 10  5  6]\n",
      " [ 7 10  8  9]]\n",
      "[[500   1  10   2   3]\n",
      " [500   4  10   5   6]\n",
      " [500   7  10   8   9]]\n"
     ]
    }
   ],
   "source": [
    "# insert\n",
    "x = np.array([1,2,3,4,5])\n",
    "print('x:\\n',x)\n",
    "x = np.insert(x, 2,[100,1000])\n",
    "print(x)\n",
    "\n",
    "y=np.arange(1,10).reshape(3,3)\n",
    "print('y:\\n',y)\n",
    "y=np.insert(y, 1,[10,10,10], axis=1)\n",
    "print(y)\n",
    "\n",
    "v=np.insert(y,0,500,axis=1)\n",
    "print(v)"
   ]
  },
  {
   "cell_type": "code",
   "execution_count": 103,
   "metadata": {},
   "outputs": [
    {
     "name": "stdout",
     "output_type": "stream",
     "text": [
      "[[0 0]\n",
      " [2 3]\n",
      " [5 6]]\n",
      "[[2 3 0]\n",
      " [5 6 0]]\n"
     ]
    }
   ],
   "source": [
    "# vstack， hstack 堆叠 \n",
    "x = np.array([0,0])\n",
    "y=np.array([[2,3],[5,6]])\n",
    "z=np.vstack((x,y))\n",
    "print(z)\n",
    "\n",
    "\n",
    "w=np.hstack( (y, x.reshape(2,1)))\n",
    "print(w)"
   ]
  },
  {
   "cell_type": "code",
   "execution_count": null,
   "metadata": {},
   "outputs": [],
   "source": [
    "# 切片\n"
   ]
  }
 ],
 "metadata": {
  "kernelspec": {
   "display_name": "Python 3",
   "language": "python",
   "name": "python3"
  },
  "language_info": {
   "codemirror_mode": {
    "name": "ipython",
    "version": 3
   },
   "file_extension": ".py",
   "mimetype": "text/x-python",
   "name": "python",
   "nbconvert_exporter": "python",
   "pygments_lexer": "ipython3",
   "version": "3.7.0"
  }
 },
 "nbformat": 4,
 "nbformat_minor": 2
}
