{
 "cells": [
  {
   "cell_type": "code",
   "execution_count": 14,
   "metadata": {},
   "outputs": [
    {
     "name": "stdout",
     "output_type": "stream",
     "text": [
      "[[ 1  2  3  4  5]\n",
      " [ 6  7  8  9 10]\n",
      " [11 12 13 14 15]\n",
      " [16 17 18 19 20]]\n",
      "x1:\n",
      " [[ 8  9]\n",
      " [13 14]\n",
      " [18 19]]\n",
      "x2:\n",
      " [[ 3  4]\n",
      " [ 8  9]\n",
      " [13 14]\n",
      " [18 19]]\n"
     ]
    }
   ],
   "source": [
    "import numpy as np\n",
    "\n",
    "#切片 slicing\n",
    "\n",
    "# 1. ndarray[start:end]\n",
    "# 2. ndarray[start:]\n",
    "# 3. ndarray[:end]\n",
    "\n",
    "x = np.arange(1,21).reshape(4,5)\n",
    "print(x)\n",
    "\n",
    "x1=x[1:4, 2:4] #1:2 目标开始行和结束行，2:5 目标开始列和结束列\n",
    "print('x1:\\n',x1)\n",
    "\n",
    "x2=x[:, 2:4] \n",
    "print('x2:\\n',x2)"
   ]
  },
  {
   "cell_type": "code",
   "execution_count": 22,
   "metadata": {},
   "outputs": [
    {
     "name": "stdout",
     "output_type": "stream",
     "text": [
      "[[ 1  2  3  4  5]\n",
      " [ 6  7  8  9 10]\n",
      " [11 12 13 14 15]\n",
      " [16 17 18 19 20]] [[    8     9]\n",
      " [   13 22222]\n",
      " [   18    19]]\n"
     ]
    }
   ],
   "source": [
    "# copy\n",
    "x = np.arange(1,21).reshape(4,5)\n",
    "# x1=x[1:4, 2:4]\n",
    "# print(x1)\n",
    "# x1[1][1] = 22222\n",
    "# print(x)\n",
    "\n",
    "x2=x[1:4, 2:4].copy()\n",
    "\n",
    "x2[1][1] = 22222\n",
    "print(x,x2)"
   ]
  },
  {
   "cell_type": "code",
   "execution_count": 26,
   "metadata": {},
   "outputs": [
    {
     "name": "stdout",
     "output_type": "stream",
     "text": [
      "[[ 0  1  2  3  4]\n",
      " [ 5  6  7  8  9]\n",
      " [10 11 12 13 14]\n",
      " [15 16 17 18 19]]\n",
      "[[ 5  6  7  8  9]\n",
      " [15 16 17 18 19]]\n",
      "[[ 1  3]\n",
      " [ 6  8]\n",
      " [11 13]\n",
      " [16 18]]\n"
     ]
    }
   ],
   "source": [
    "x = np.arange(20).reshape(4,5)\n",
    "print(x)\n",
    "indices=np.array([1,3]) #指数\n",
    "y=x[indices,:] #第二和第四行\n",
    "print(y)\n",
    "z=x[:,indices]\n",
    "print(z)"
   ]
  },
  {
   "cell_type": "code",
   "execution_count": 32,
   "metadata": {},
   "outputs": [
    {
     "name": "stdout",
     "output_type": "stream",
     "text": [
      "[[ 0  1  2  3  4]\n",
      " [ 5  6  7  8  9]\n",
      " [10 11 12 13 14]\n",
      " [15 16 17 18 19]]\n",
      "z:\n",
      " [ 0  6 12 18]\n",
      "z:\n",
      " [ 1  7 13 19]\n"
     ]
    }
   ],
   "source": [
    "# 对角线上 diag\n",
    "print(x)\n",
    "z = np.diag(x)\n",
    "print('z:\\n',z)\n",
    "\n",
    "z = np.diag(x, k=1)\n",
    "print('z:\\n',z)"
   ]
  },
  {
   "cell_type": "code",
   "execution_count": 34,
   "metadata": {},
   "outputs": [
    {
     "name": "stdout",
     "output_type": "stream",
     "text": [
      "[1 2 3 5]\n"
     ]
    }
   ],
   "source": [
    "# unique 提取独一无二的值\n",
    "x=np.array( [[1,2,1],[3,3,5],[1,3,5]])\n",
    "print(np.unique(x))"
   ]
  },
  {
   "cell_type": "code",
   "execution_count": null,
   "metadata": {},
   "outputs": [],
   "source": [
    "# 进阶\n",
    "# 布尔索引\n",
    "# 集合运行\n",
    "# 排序"
   ]
  },
  {
   "cell_type": "code",
   "execution_count": 47,
   "metadata": {},
   "outputs": [
    {
     "name": "stdout",
     "output_type": "stream",
     "text": [
      "[[ 0  1  2  3  4]\n",
      " [ 5  6  7  8  9]\n",
      " [10 11 12 13 14]\n",
      " [15 16 17 18 19]\n",
      " [20 21 22 23 24]]\n",
      "选出大于10的值:\n",
      " [11 12 13 14 15 16 17 18 19 20 21 22 23 24]\n",
      "选出奇数:\n",
      " [ 1  3  5  7  9 11 13 15 17 19 21 23]\n",
      "[8 9]\n",
      "[[ 0  1  2  3  4]\n",
      " [ 5  6  7 -1 -1]\n",
      " [10 11 12 13 14]\n",
      " [15 16 17 18 19]\n",
      " [20 21 22 23 24]]\n"
     ]
    }
   ],
   "source": [
    "x = np.arange(25).reshape(5,5)\n",
    "print(x)\n",
    "\n",
    "print('选出大于10的值:\\n', x[x>10])\n",
    "print('选出奇数:\\n', x[x%2!=0])\n",
    "print(x[(x>7) & (x<10)])\n",
    "\n",
    "#赋值\n",
    "x[(x>7) & (x<10)] = -1\n",
    "print(x)"
   ]
  },
  {
   "cell_type": "code",
   "execution_count": 62,
   "metadata": {},
   "outputs": [
    {
     "name": "stdout",
     "output_type": "stream",
     "text": [
      "[2 4]\n",
      "[1 3 5]\n",
      "[1 2 3 4 5 6 7 8]\n"
     ]
    }
   ],
   "source": [
    "# 集合运算\n",
    "x = np.array([1,2,3,4,5])\n",
    "y = np.array([6,7,2,8,4])\n",
    "\n",
    "print( np.intersect1d(x,y) )\n",
    "print(np.setdiff1d(x,y))\n",
    "print(np.union1d(x,y))\n"
   ]
  },
  {
   "cell_type": "code",
   "execution_count": null,
   "metadata": {},
   "outputs": [],
   "source": [
    "# 排序\n",
    "\n"
   ]
  }
 ],
 "metadata": {
  "kernelspec": {
   "display_name": "Python 3",
   "language": "python",
   "name": "python3"
  },
  "language_info": {
   "codemirror_mode": {
    "name": "ipython",
    "version": 3
   },
   "file_extension": ".py",
   "mimetype": "text/x-python",
   "name": "python",
   "nbconvert_exporter": "python",
   "pygments_lexer": "ipython3",
   "version": "3.7.0"
  }
 },
 "nbformat": 4,
 "nbformat_minor": 2
}
